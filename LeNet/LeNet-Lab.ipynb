{
 "cells": [
  {
   "cell_type": "markdown",
   "metadata": {},
   "source": [
    "# LeNet Lab\n",
    "![LeNet Architecture](lenet.png)\n",
    "Source: Yan LeCun"
   ]
  },
  {
   "cell_type": "markdown",
   "metadata": {},
   "source": [
    "## Load Data\n",
    "\n",
    "Load the MNIST data, which comes pre-loaded with TensorFlow.\n",
    "\n",
    "You do not need to modify this section."
   ]
  },
  {
   "cell_type": "code",
   "execution_count": 5,
   "metadata": {
    "tags": []
   },
   "outputs": [
    {
     "output_type": "stream",
     "name": "stdout",
     "text": "Extracting MNIST_data/train-images-idx3-ubyte.gz\nExtracting MNIST_data/train-labels-idx1-ubyte.gz\nExtracting MNIST_data/t10k-images-idx3-ubyte.gz\nExtracting MNIST_data/t10k-labels-idx1-ubyte.gz\n\nImage Shape: (28, 28, 1)\n\nTraining Set:   55000 samples\nValidation Set: 5000 samples\nTest Set:       10000 samples\n"
    }
   ],
   "source": [
    "from tensorflow.examples.tutorials.mnist import input_data\n",
    "\n",
    "mnist = input_data.read_data_sets(\"MNIST_data/\", reshape=False)\n",
    "X_train, y_train           = mnist.train.images, mnist.train.labels\n",
    "X_validation, y_validation = mnist.validation.images, mnist.validation.labels\n",
    "X_test, y_test             = mnist.test.images, mnist.test.labels\n",
    "\n",
    "assert(len(X_train) == len(y_train))\n",
    "assert(len(X_validation) == len(y_validation))\n",
    "assert(len(X_test) == len(y_test))\n",
    "\n",
    "print()\n",
    "print(\"Image Shape: {}\".format(X_train[0].shape))\n",
    "print()\n",
    "print(\"Training Set:   {} samples\".format(len(X_train)))\n",
    "print(\"Validation Set: {} samples\".format(len(X_validation)))\n",
    "print(\"Test Set:       {} samples\".format(len(X_test)))"
   ]
  },
  {
   "cell_type": "markdown",
   "metadata": {},
   "source": [
    "The MNIST data that TensorFlow pre-loads comes as 28x28x1 images.\n",
    "\n",
    "However, the LeNet architecture only accepts 32x32xC images, where C is the number of color channels.\n",
    "\n",
    "In order to reformat the MNIST data into a shape that LeNet will accept, we pad the data with two rows of zeros on the top and bottom, and two columns of zeros on the left and right (28+2+2 = 32).\n",
    "\n",
    "You do not need to modify this section."
   ]
  },
  {
   "cell_type": "code",
   "execution_count": 6,
   "metadata": {
    "tags": []
   },
   "outputs": [
    {
     "output_type": "stream",
     "name": "stdout",
     "text": "Updated Image Shape: (32, 32, 1)\n"
    }
   ],
   "source": [
    "import numpy as np\n",
    "\n",
    "# Pad images with 0s\n",
    "X_train      = np.pad(X_train, ((0,0),(2,2),(2,2),(0,0)), 'constant')\n",
    "X_validation = np.pad(X_validation, ((0,0),(2,2),(2,2),(0,0)), 'constant')\n",
    "X_test       = np.pad(X_test, ((0,0),(2,2),(2,2),(0,0)), 'constant')\n",
    "    \n",
    "print(\"Updated Image Shape: {}\".format(X_train[0].shape))"
   ]
  },
  {
   "cell_type": "markdown",
   "metadata": {},
   "source": [
    "## Visualize Data\n",
    "\n",
    "View a sample from the dataset.\n",
    "\n",
    "You do not need to modify this section."
   ]
  },
  {
   "cell_type": "code",
   "execution_count": 7,
   "metadata": {},
   "outputs": [
    {
     "output_type": "error",
     "ename": "ModuleNotFoundError",
     "evalue": "No module named 'matplotlib'",
     "traceback": [
      "\u001b[1;31m---------------------------------------------------------------------------\u001b[0m",
      "\u001b[1;31mModuleNotFoundError\u001b[0m                       Traceback (most recent call last)",
      "\u001b[1;32m<ipython-input-7-ef8f409cdc11>\u001b[0m in \u001b[0;36m<module>\u001b[1;34m\u001b[0m\n\u001b[0;32m      1\u001b[0m \u001b[1;32mimport\u001b[0m \u001b[0mrandom\u001b[0m\u001b[1;33m\u001b[0m\u001b[1;33m\u001b[0m\u001b[0m\n\u001b[0;32m      2\u001b[0m \u001b[1;32mimport\u001b[0m \u001b[0mnumpy\u001b[0m \u001b[1;32mas\u001b[0m \u001b[0mnp\u001b[0m\u001b[1;33m\u001b[0m\u001b[1;33m\u001b[0m\u001b[0m\n\u001b[1;32m----> 3\u001b[1;33m \u001b[1;32mimport\u001b[0m \u001b[0mmatplotlib\u001b[0m\u001b[1;33m.\u001b[0m\u001b[0mpyplot\u001b[0m \u001b[1;32mas\u001b[0m \u001b[0mplt\u001b[0m\u001b[1;33m\u001b[0m\u001b[1;33m\u001b[0m\u001b[0m\n\u001b[0m\u001b[0;32m      4\u001b[0m \u001b[0mget_ipython\u001b[0m\u001b[1;33m(\u001b[0m\u001b[1;33m)\u001b[0m\u001b[1;33m.\u001b[0m\u001b[0mrun_line_magic\u001b[0m\u001b[1;33m(\u001b[0m\u001b[1;34m'matplotlib'\u001b[0m\u001b[1;33m,\u001b[0m \u001b[1;34m'inline'\u001b[0m\u001b[1;33m)\u001b[0m\u001b[1;33m\u001b[0m\u001b[1;33m\u001b[0m\u001b[0m\n\u001b[0;32m      5\u001b[0m \u001b[1;33m\u001b[0m\u001b[0m\n",
      "\u001b[1;31mModuleNotFoundError\u001b[0m: No module named 'matplotlib'"
     ]
    }
   ],
   "source": [
    "import random\n",
    "import numpy as np\n",
    "import matplotlib.pyplot as plt\n",
    "%matplotlib inline\n",
    "\n",
    "index = random.randint(0, len(X_train))\n",
    "image = X_train[index].squeeze()\n",
    "\n",
    "plt.figure(figsize=(1,1))\n",
    "plt.imshow(image, cmap=\"gray\")"
   ]
  },
  {
   "cell_type": "markdown",
   "metadata": {},
   "source": [
    "## Preprocess Data\n",
    "\n",
    "Shuffle the training data. It's important to shuffle the data as the ordering of the data can have a huge effect on how well the network trends. \n",
    "\n",
    "You do not need to modify this section."
   ]
  },
  {
   "cell_type": "code",
   "execution_count": 15,
   "metadata": {},
   "outputs": [],
   "source": [
    "from sklearn.utils import shuffle\n",
    "\n",
    "X_train, y_train = shuffle(X_train, y_train)"
   ]
  },
  {
   "cell_type": "markdown",
   "metadata": {},
   "source": [
    "## Setup TensorFlow\n",
    "The `EPOCH` and `BATCH_SIZE` values affect the training speed and model accuracy.\n",
    "\n",
    "You do not need to modify this section."
   ]
  },
  {
   "cell_type": "code",
   "execution_count": 9,
   "metadata": {},
   "outputs": [],
   "source": [
    "import tensorflow as tf\n",
    "\n",
    "EPOCHS = 10\n",
    "BATCH_SIZE = 128"
   ]
  },
  {
   "cell_type": "markdown",
   "metadata": {},
   "source": [
    "## TODO: Implement LeNet-5\n",
    "Implement the [LeNet-5](http://yann.lecun.com/exdb/lenet/) neural network architecture.\n",
    "\n",
    "This is the only cell you need to edit.\n",
    "### Input\n",
    "The LeNet architecture accepts a 32x32xC image as input, where C is the number of color channels. Since MNIST images are grayscale, C is 1 in this case.\n",
    "\n",
    "### Architecture\n",
    "**Layer 1: Convolutional.** The output shape should be 28x28x6.\n",
    "\n",
    "**Activation.** Your choice of activation function.\n",
    "\n",
    "**Pooling.** The output shape should be 14x14x6.\n",
    "\n",
    "**Layer 2: Convolutional.** The output shape should be 10x10x16.\n",
    "\n",
    "**Activation.** Your choice of activation function.\n",
    "\n",
    "**Pooling.** The output shape should be 5x5x16.\n",
    "\n",
    "**Flatten.** Flatten the output shape of the final pooling layer such that it's 1D instead of 3D. The easiest way to do is by using `tf.contrib.layers.flatten`, which is already imported for you.\n",
    "\n",
    "**Layer 3: Fully Connected.** This should have 120 outputs.\n",
    "\n",
    "**Activation.** Your choice of activation function.\n",
    "\n",
    "**Layer 4: Fully Connected.** This should have 84 outputs.\n",
    "\n",
    "**Activation.** Your choice of activation function.\n",
    "\n",
    "**Layer 5: Fully Connected (Logits).** This should have 10 outputs.\n",
    "\n",
    "### Output\n",
    "Return the result of the 2nd fully connected layer."
   ]
  },
  {
   "cell_type": "code",
   "execution_count": 10,
   "metadata": {},
   "outputs": [],
   "source": [
    "from tensorflow.contrib.layers import flatten\n",
    "\n",
    "def conv2d(x, W, b, stride=1, pad='VALID'):\n",
    "    result = tf.nn.conv2d(x, W, strides=[1, stride, stride, 1], padding=pad)\n",
    "    result = tf.nn.bias_add(result, b)\n",
    "    \n",
    "    return result\n",
    "\n",
    "def maxpool(x, k=2, pad='VALID'):\n",
    "    return tf.nn.max_pool(x, ksize=[1, k, k, 1], strides=[1, k, k, 1], padding=pad)\n",
    "\n",
    "def LeNet(x):    \n",
    "    # Arguments used for tf.truncated_normal, randomly defines variables for the weights and biases for each layer\n",
    "    mu = 0\n",
    "    sigma = 0.1\n",
    "    \n",
    "    # TODO: Layer 1: Convolutional. Input = 32x32x1. Output = 28x28x6.\n",
    "    F_W = tf.Variable(tf.truncated_normal([5, 5, 1, 6], mean=mu, stddev=sigma))\n",
    "    F_b = tf.Variable(tf.zeros(6))\n",
    "    \n",
    "    conv1 = conv2d(x, F_W, F_b)\n",
    "\n",
    "    # TODO: Activation.\n",
    "    conv1 = tf.nn.relu(conv1)\n",
    "\n",
    "    # TODO: Pooling. Input = 28x28x6. Output = 14x14x6.\n",
    "    conv1 = maxpool(conv1)\n",
    "\n",
    "    # TODO: Layer 2: Convolutional. Output = 10x10x16.\n",
    "    F_W = tf.Variable(tf.truncated_normal([5, 5, 6, 16], mean=mu, stddev=sigma))\n",
    "    F_b = tf.Variable(tf.zeros(16))\n",
    "    \n",
    "    conv2 = conv2d(conv1, F_W, F_b)\n",
    "    \n",
    "    # TODO: Activation.\n",
    "    conv2 = tf.nn.relu(conv2)\n",
    "\n",
    "    # TODO: Pooling. Input = 10x10x16. Output = 5x5x16.\n",
    "    conv2 = maxpool(conv2)\n",
    "\n",
    "    # TODO: Flatten. Input = 5x5x16. Output = 400.\n",
    "    conv2 = flatten(conv2)\n",
    "    \n",
    "    # TODO: Layer 3: Fully Connected. Input = 400. Output = 120.\n",
    "    F_W = tf.Variable(tf.truncated_normal([400, 120], mean=mu, stddev=sigma))\n",
    "    F_b = tf.Variable(tf.zeros(120))\n",
    "    \n",
    "    fc1 = tf.add(tf.matmul(conv2, F_W), F_b)\n",
    "    \n",
    "    # TODO: Activation.\n",
    "    fc1 = tf.nn.relu(fc1)\n",
    "\n",
    "    # TODO: Layer 4: Fully Connected. Input = 120. Output = 84.\n",
    "    F_W = tf.Variable(tf.truncated_normal([120, 84], mean=mu, stddev=sigma))\n",
    "    F_b = tf.Variable(tf.zeros(84))\n",
    "    \n",
    "    fc2 = tf.add(tf.matmul(fc1, F_W), F_b)\n",
    "    \n",
    "    # TODO: Activation.\n",
    "    fc2 = tf.nn.relu(fc2)\n",
    "\n",
    "    # TODO: Layer 5: Fully Connected. Input = 84. Output = 10.\n",
    "    F_W = tf.Variable(tf.truncated_normal([84, 10], mean=mu, stddev=sigma))\n",
    "    F_b = tf.Variable(tf.zeros(10))\n",
    "    \n",
    "    logits = tf.add(tf.matmul(fc2, F_W), F_b)\n",
    "    \n",
    "    return logits"
   ]
  },
  {
   "cell_type": "markdown",
   "metadata": {},
   "source": [
    "## Features and Labels\n",
    "Train LeNet to classify [MNIST](http://yann.lecun.com/exdb/mnist/) data.\n",
    "\n",
    "`x` is a placeholder for a batch of input images.\n",
    "`y` is a placeholder for a batch of output labels.\n",
    "\n",
    "You do not need to modify this section."
   ]
  },
  {
   "cell_type": "code",
   "execution_count": 11,
   "metadata": {},
   "outputs": [],
   "source": [
    "x = tf.placeholder(tf.float32, (None, 32, 32, 1))\n",
    "y = tf.placeholder(tf.int32, (None))\n",
    "one_hot_y = tf.one_hot(y, 10)"
   ]
  },
  {
   "cell_type": "markdown",
   "metadata": {},
   "source": [
    "## Training Pipeline\n",
    "Create a training pipeline that uses the model to classify MNIST data.\n",
    "\n",
    "You do not need to modify this section."
   ]
  },
  {
   "cell_type": "code",
   "execution_count": 12,
   "metadata": {
    "tags": []
   },
   "outputs": [
    {
     "output_type": "stream",
     "name": "stdout",
     "text": "WARNING:tensorflow:From C:\\Users\\Talha\\anaconda3\\envs\\tensorflow1\\lib\\site-packages\\tensorflow\\contrib\\layers\\python\\layers\\layers.py:1634: flatten (from tensorflow.python.layers.core) is deprecated and will be removed in a future version.\nInstructions for updating:\nUse keras.layers.flatten instead.\nWARNING:tensorflow:Entity <bound method Flatten.call of <tensorflow.python.layers.core.Flatten object at 0x0000026751A554E0>> could not be transformed and will be executed as-is. Please report this to the AutgoGraph team. When filing the bug, set the verbosity to 10 (on Linux, `export AUTOGRAPH_VERBOSITY=10`) and attach the full output. Cause: converting <bound method Flatten.call of <tensorflow.python.layers.core.Flatten object at 0x0000026751A554E0>>: AttributeError: module 'gast' has no attribute 'Num'\nWARNING: Entity <bound method Flatten.call of <tensorflow.python.layers.core.Flatten object at 0x0000026751A554E0>> could not be transformed and will be executed as-is. Please report this to the AutgoGraph team. When filing the bug, set the verbosity to 10 (on Linux, `export AUTOGRAPH_VERBOSITY=10`) and attach the full output. Cause: converting <bound method Flatten.call of <tensorflow.python.layers.core.Flatten object at 0x0000026751A554E0>>: AttributeError: module 'gast' has no attribute 'Num'\nWARNING:tensorflow:From <ipython-input-12-05c80466401a>:5: softmax_cross_entropy_with_logits (from tensorflow.python.ops.nn_ops) is deprecated and will be removed in a future version.\nInstructions for updating:\n\nFuture major versions of TensorFlow will allow gradients to flow\ninto the labels input on backprop by default.\n\nSee `tf.nn.softmax_cross_entropy_with_logits_v2`.\n\n"
    }
   ],
   "source": [
    "rate = 0.001\n",
    "\n",
    "logits = LeNet(x)\n",
    "# Calculate the cross-entropy between logits and ground truth\n",
    "cross_entropy = tf.nn.softmax_cross_entropy_with_logits(labels=one_hot_y, logits=logits)\n",
    "# Average the cross-entropy across all training images\n",
    "loss_operation = tf.reduce_mean(cross_entropy)\n",
    "# Use Adam algorithm to minimise loss function similar to stochastic gradient descent\n",
    "optimizer = tf.train.AdamOptimizer(learning_rate = rate)\n",
    "# Use backpropogation to update the network and minimise training loss\n",
    "training_operation = optimizer.minimize(loss_operation)"
   ]
  },
  {
   "cell_type": "markdown",
   "metadata": {},
   "source": [
    "## Model Evaluation\n",
    "Evaluate how well the loss and accuracy of the model for a given dataset.\n",
    "\n",
    "You do not need to modify this section."
   ]
  },
  {
   "cell_type": "code",
   "execution_count": 13,
   "metadata": {},
   "outputs": [],
   "source": [
    "correct_prediction = tf.equal(tf.argmax(logits, 1), tf.argmax(one_hot_y, 1))\n",
    "# Overall accuracy as average of individual correct predictions\n",
    "accuracy_operation = tf.reduce_mean(tf.cast(correct_prediction, tf.float32))\n",
    "saver = tf.train.Saver()\n",
    "\n",
    "def evaluate(X_data, y_data):\n",
    "    num_examples = len(X_data)\n",
    "    total_accuracy = 0\n",
    "    sess = tf.get_default_session()\n",
    "    for offset in range(0, num_examples, BATCH_SIZE):\n",
    "        batch_x, batch_y = X_data[offset:offset+BATCH_SIZE], y_data[offset:offset+BATCH_SIZE]\n",
    "        accuracy = sess.run(accuracy_operation, feed_dict={x: batch_x, y: batch_y})\n",
    "        total_accuracy += (accuracy * len(batch_x))\n",
    "    return total_accuracy / num_examples"
   ]
  },
  {
   "cell_type": "markdown",
   "metadata": {},
   "source": [
    "## Train the Model\n",
    "Run the training data through the training pipeline to train the model.\n",
    "\n",
    "Before each epoch, shuffle the training set.\n",
    "\n",
    "After each epoch, measure the loss and accuracy of the validation set.\n",
    "\n",
    "Save the model after training.\n",
    "\n",
    "You do not need to modify this section."
   ]
  },
  {
   "cell_type": "code",
   "execution_count": 16,
   "metadata": {
    "tags": []
   },
   "outputs": [
    {
     "output_type": "stream",
     "name": "stdout",
     "text": "Training...\n\nx:  <class 'numpy.ndarray'>\ny:  <class 'numpy.ndarray'>\nx:  <class 'numpy.ndarray'>\ny:  <class 'numpy.ndarray'>\nx:  <class 'numpy.ndarray'>\ny:  <class 'numpy.ndarray'>\nx:  <class 'numpy.ndarray'>\ny:  <class 'numpy.ndarray'>\nx:  <class 'numpy.ndarray'>\ny:  <class 'numpy.ndarray'>\nx:  <class 'numpy.ndarray'>\ny:  <class 'numpy.ndarray'>\nx:  <class 'numpy.ndarray'>\ny:  <class 'numpy.ndarray'>\nx:  <class 'numpy.ndarray'>\ny:  <class 'numpy.ndarray'>\nx:  <class 'numpy.ndarray'>\ny:  <class 'numpy.ndarray'>\nx:  <class 'numpy.ndarray'>\ny:  <class 'numpy.ndarray'>\nx:  <class 'numpy.ndarray'>\ny:  <class 'numpy.ndarray'>\nx:  <class 'numpy.ndarray'>\ny:  <class 'numpy.ndarray'>\nx:  <class 'numpy.ndarray'>\ny:  <class 'numpy.ndarray'>\nx:  <class 'numpy.ndarray'>\ny:  <class 'numpy.ndarray'>\nx:  <class 'numpy.ndarray'>\ny:  <class 'numpy.ndarray'>\nx:  <class 'numpy.ndarray'>\ny:  <class 'numpy.ndarray'>\nx:  <class 'numpy.ndarray'>\ny:  <class 'numpy.ndarray'>\nx:  <class 'numpy.ndarray'>\ny:  <class 'numpy.ndarray'>\nx:  <class 'numpy.ndarray'>\ny:  <class 'numpy.ndarray'>\nx:  <class 'numpy.ndarray'>\ny:  <class 'numpy.ndarray'>\nx:  <class 'numpy.ndarray'>\ny:  <class 'numpy.ndarray'>\nx:  <class 'numpy.ndarray'>\ny:  <class 'numpy.ndarray'>\nx:  <class 'numpy.ndarray'>\ny:  <class 'numpy.ndarray'>\nx:  <class 'numpy.ndarray'>\ny:  <class 'numpy.ndarray'>\nx:  <class 'numpy.ndarray'>\ny:  <class 'numpy.ndarray'>\nx:  <class 'numpy.ndarray'>\ny:  <class 'numpy.ndarray'>\nx:  <class 'numpy.ndarray'>\ny:  <class 'numpy.ndarray'>\nx:  <class 'numpy.ndarray'>\ny:  <class 'numpy.ndarray'>\nx:  <class 'numpy.ndarray'>\ny:  <class 'numpy.ndarray'>\nx:  <class 'numpy.ndarray'>\ny:  <class 'numpy.ndarray'>\nx:  <class 'numpy.ndarray'>\ny:  <class 'numpy.ndarray'>\nx:  <class 'numpy.ndarray'>\ny:  <class 'numpy.ndarray'>\nx:  <class 'numpy.ndarray'>\ny:  <class 'numpy.ndarray'>\nx:  <class 'numpy.ndarray'>\ny:  <class 'numpy.ndarray'>\nx:  <class 'numpy.ndarray'>\ny:  <class 'numpy.ndarray'>\nx:  <class 'numpy.ndarray'>\ny:  <class 'numpy.ndarray'>\nx:  <class 'numpy.ndarray'>\ny:  <class 'numpy.ndarray'>\nx:  <class 'numpy.ndarray'>\ny:  <class 'numpy.ndarray'>\nx:  <class 'numpy.ndarray'>\ny:  <class 'numpy.ndarray'>\nx:  <class 'numpy.ndarray'>\ny:  <class 'numpy.ndarray'>\nEPOCH 1 ...\nValidation Accuracy = 0.972\n\nx:  <class 'numpy.ndarray'>\ny:  <class 'numpy.ndarray'>\nx:  <class 'numpy.ndarray'>\ny:  <class 'numpy.ndarray'>\nx:  <class 'numpy.ndarray'>\ny:  <class 'numpy.ndarray'>\nx:  <class 'numpy.ndarray'>\ny:  <class 'numpy.ndarray'>\nx:  <class 'numpy.ndarray'>\ny:  <class 'numpy.ndarray'>\nx:  <class 'numpy.ndarray'>\ny:  <class 'numpy.ndarray'>\nx:  <class 'numpy.ndarray'>\ny:  <class 'numpy.ndarray'>\nx:  <class 'numpy.ndarray'>\ny:  <class 'numpy.ndarray'>\nx:  <class 'numpy.ndarray'>\ny:  <class 'numpy.ndarray'>\nx:  <class 'numpy.ndarray'>\ny:  <class 'numpy.ndarray'>\nx:  <class 'numpy.ndarray'>\ny:  <class 'numpy.ndarray'>\nx:  <class 'numpy.ndarray'>\ny:  <class 'numpy.ndarray'>\nx:  <class 'numpy.ndarray'>\ny:  <class 'numpy.ndarray'>\nx:  <class 'numpy.ndarray'>\ny:  <class 'numpy.ndarray'>\nx:  <class 'numpy.ndarray'>\ny:  <class 'numpy.ndarray'>\nx:  <class 'numpy.ndarray'>\ny:  <class 'numpy.ndarray'>\nx:  <class 'numpy.ndarray'>\ny:  <class 'numpy.ndarray'>\nx:  <class 'numpy.ndarray'>\ny:  <class 'numpy.ndarray'>\nx:  <class 'numpy.ndarray'>\ny:  <class 'numpy.ndarray'>\nx:  <class 'numpy.ndarray'>\ny:  <class 'numpy.ndarray'>\nx:  <class 'numpy.ndarray'>\ny:  <class 'numpy.ndarray'>\nx:  <class 'numpy.ndarray'>\ny:  <class 'numpy.ndarray'>\nx:  <class 'numpy.ndarray'>\ny:  <class 'numpy.ndarray'>\nx:  <class 'numpy.ndarray'>\ny:  <class 'numpy.ndarray'>\nx:  <class 'numpy.ndarray'>\ny:  <class 'numpy.ndarray'>\nx:  <class 'numpy.ndarray'>\ny:  <class 'numpy.ndarray'>\nx:  <class 'numpy.ndarray'>\ny:  <class 'numpy.ndarray'>\nx:  <class 'numpy.ndarray'>\ny:  <class 'numpy.ndarray'>\nx:  <class 'numpy.ndarray'>\ny:  <class 'numpy.ndarray'>\nx:  <class 'numpy.ndarray'>\ny:  <class 'numpy.ndarray'>\nx:  <class 'numpy.ndarray'>\ny:  <class 'numpy.ndarray'>\nx:  <class 'numpy.ndarray'>\ny:  <class 'numpy.ndarray'>\nx:  <class 'numpy.ndarray'>\ny:  <class 'numpy.ndarray'>\nx:  <class 'numpy.ndarray'>\ny:  <class 'numpy.ndarray'>\nx:  <class 'numpy.ndarray'>\ny:  <class 'numpy.ndarray'>\nx:  <class 'numpy.ndarray'>\ny:  <class 'numpy.ndarray'>\nx:  <class 'numpy.ndarray'>\ny:  <class 'numpy.ndarray'>\nx:  <class 'numpy.ndarray'>\ny:  <class 'numpy.ndarray'>\nx:  <class 'numpy.ndarray'>\ny:  <class 'numpy.ndarray'>\nx:  <class 'numpy.ndarray'>\ny:  <class 'numpy.ndarray'>\nEPOCH 2 ...\nValidation Accuracy = 0.978\n\nx:  <class 'numpy.ndarray'>\ny:  <class 'numpy.ndarray'>\nx:  <class 'numpy.ndarray'>\ny:  <class 'numpy.ndarray'>\nx:  <class 'numpy.ndarray'>\ny:  <class 'numpy.ndarray'>\nx:  <class 'numpy.ndarray'>\ny:  <class 'numpy.ndarray'>\nx:  <class 'numpy.ndarray'>\ny:  <class 'numpy.ndarray'>\nx:  <class 'numpy.ndarray'>\ny:  <class 'numpy.ndarray'>\nx:  <class 'numpy.ndarray'>\ny:  <class 'numpy.ndarray'>\nx:  <class 'numpy.ndarray'>\ny:  <class 'numpy.ndarray'>\nx:  <class 'numpy.ndarray'>\ny:  <class 'numpy.ndarray'>\nx:  <class 'numpy.ndarray'>\ny:  <class 'numpy.ndarray'>\nx:  <class 'numpy.ndarray'>\ny:  <class 'numpy.ndarray'>\nx:  <class 'numpy.ndarray'>\ny:  <class 'numpy.ndarray'>\nx:  <class 'numpy.ndarray'>\ny:  <class 'numpy.ndarray'>\nx:  <class 'numpy.ndarray'>\ny:  <class 'numpy.ndarray'>\nx:  <class 'numpy.ndarray'>\ny:  <class 'numpy.ndarray'>\nx:  <class 'numpy.ndarray'>\ny:  <class 'numpy.ndarray'>\nx:  <class 'numpy.ndarray'>\ny:  <class 'numpy.ndarray'>\nx:  <class 'numpy.ndarray'>\ny:  <class 'numpy.ndarray'>\nx:  <class 'numpy.ndarray'>\ny:  <class 'numpy.ndarray'>\nx:  <class 'numpy.ndarray'>\ny:  <class 'numpy.ndarray'>\nx:  <class 'numpy.ndarray'>\ny:  <class 'numpy.ndarray'>\nx:  <class 'numpy.ndarray'>\ny:  <class 'numpy.ndarray'>\nx:  <class 'numpy.ndarray'>\ny:  <class 'numpy.ndarray'>\nx:  <class 'numpy.ndarray'>\ny:  <class 'numpy.ndarray'>\nx:  <class 'numpy.ndarray'>\ny:  <class 'numpy.ndarray'>\nx:  <class 'numpy.ndarray'>\ny:  <class 'numpy.ndarray'>\nx:  <class 'numpy.ndarray'>\ny:  <class 'numpy.ndarray'>\nx:  <class 'numpy.ndarray'>\ny:  <class 'numpy.ndarray'>\nx:  <class 'numpy.ndarray'>\ny:  <class 'numpy.ndarray'>\nx:  <class 'numpy.ndarray'>\ny:  <class 'numpy.ndarray'>\nx:  <class 'numpy.ndarray'>\ny:  <class 'numpy.ndarray'>\nx:  <class 'numpy.ndarray'>\ny:  <class 'numpy.ndarray'>\nx:  <class 'numpy.ndarray'>\ny:  <class 'numpy.ndarray'>\nx:  <class 'numpy.ndarray'>\ny:  <class 'numpy.ndarray'>\nx:  <class 'numpy.ndarray'>\ny:  <class 'numpy.ndarray'>\nx:  <class 'numpy.ndarray'>\ny:  <class 'numpy.ndarray'>\nx:  <class 'numpy.ndarray'>\ny:  <class 'numpy.ndarray'>\nx:  <class 'numpy.ndarray'>\ny:  <class 'numpy.ndarray'>\nx:  <class 'numpy.ndarray'>\ny:  <class 'numpy.ndarray'>\nx:  <class 'numpy.ndarray'>\ny:  <class 'numpy.ndarray'>\nEPOCH 3 ...\nValidation Accuracy = 0.983\n\nx:  <class 'numpy.ndarray'>\ny:  <class 'numpy.ndarray'>\nx:  <class 'numpy.ndarray'>\ny:  <class 'numpy.ndarray'>\nx:  <class 'numpy.ndarray'>\ny:  <class 'numpy.ndarray'>\nx:  <class 'numpy.ndarray'>\ny:  <class 'numpy.ndarray'>\nx:  <class 'numpy.ndarray'>\ny:  <class 'numpy.ndarray'>\nx:  <class 'numpy.ndarray'>\ny:  <class 'numpy.ndarray'>\nx:  <class 'numpy.ndarray'>\ny:  <class 'numpy.ndarray'>\nx:  <class 'numpy.ndarray'>\ny:  <class 'numpy.ndarray'>\nx:  <class 'numpy.ndarray'>\ny:  <class 'numpy.ndarray'>\nx:  <class 'numpy.ndarray'>\ny:  <class 'numpy.ndarray'>\nx:  <class 'numpy.ndarray'>\ny:  <class 'numpy.ndarray'>\nx:  <class 'numpy.ndarray'>\ny:  <class 'numpy.ndarray'>\nx:  <class 'numpy.ndarray'>\ny:  <class 'numpy.ndarray'>\nx:  <class 'numpy.ndarray'>\ny:  <class 'numpy.ndarray'>\nx:  <class 'numpy.ndarray'>\ny:  <class 'numpy.ndarray'>\nx:  <class 'numpy.ndarray'>\ny:  <class 'numpy.ndarray'>\nx:  <class 'numpy.ndarray'>\ny:  <class 'numpy.ndarray'>\nx:  <class 'numpy.ndarray'>\ny:  <class 'numpy.ndarray'>\nx:  <class 'numpy.ndarray'>\ny:  <class 'numpy.ndarray'>\nx:  <class 'numpy.ndarray'>\ny:  <class 'numpy.ndarray'>\nx:  <class 'numpy.ndarray'>\ny:  <class 'numpy.ndarray'>\nx:  <class 'numpy.ndarray'>\ny:  <class 'numpy.ndarray'>\nx:  <class 'numpy.ndarray'>\ny:  <class 'numpy.ndarray'>\nx:  <class 'numpy.ndarray'>\ny:  <class 'numpy.ndarray'>\nx:  <class 'numpy.ndarray'>\ny:  <class 'numpy.ndarray'>\nx:  <class 'numpy.ndarray'>\ny:  <class 'numpy.ndarray'>\nx:  <class 'numpy.ndarray'>\ny:  <class 'numpy.ndarray'>\nx:  <class 'numpy.ndarray'>\ny:  <class 'numpy.ndarray'>\nx:  <class 'numpy.ndarray'>\ny:  <class 'numpy.ndarray'>\nx:  <class 'numpy.ndarray'>\ny:  <class 'numpy.ndarray'>\nx:  <class 'numpy.ndarray'>\ny:  <class 'numpy.ndarray'>\nx:  <class 'numpy.ndarray'>\ny:  <class 'numpy.ndarray'>\nx:  <class 'numpy.ndarray'>\ny:  <class 'numpy.ndarray'>\nx:  <class 'numpy.ndarray'>\ny:  <class 'numpy.ndarray'>\nx:  <class 'numpy.ndarray'>\ny:  <class 'numpy.ndarray'>\nx:  <class 'numpy.ndarray'>\ny:  <class 'numpy.ndarray'>\nx:  <class 'numpy.ndarray'>\ny:  <class 'numpy.ndarray'>\nx:  <class 'numpy.ndarray'>\ny:  <class 'numpy.ndarray'>\nx:  <class 'numpy.ndarray'>\ny:  <class 'numpy.ndarray'>\nx:  <class 'numpy.ndarray'>\ny:  <class 'numpy.ndarray'>\nEPOCH 4 ...\nValidation Accuracy = 0.985\n\nx:  <class 'numpy.ndarray'>\ny:  <class 'numpy.ndarray'>\nx:  <class 'numpy.ndarray'>\ny:  <class 'numpy.ndarray'>\nx:  <class 'numpy.ndarray'>\ny:  <class 'numpy.ndarray'>\nx:  <class 'numpy.ndarray'>\ny:  <class 'numpy.ndarray'>\nx:  <class 'numpy.ndarray'>\ny:  <class 'numpy.ndarray'>\nx:  <class 'numpy.ndarray'>\ny:  <class 'numpy.ndarray'>\nx:  <class 'numpy.ndarray'>\ny:  <class 'numpy.ndarray'>\nx:  <class 'numpy.ndarray'>\ny:  <class 'numpy.ndarray'>\nx:  <class 'numpy.ndarray'>\ny:  <class 'numpy.ndarray'>\nx:  <class 'numpy.ndarray'>\ny:  <class 'numpy.ndarray'>\nx:  <class 'numpy.ndarray'>\ny:  <class 'numpy.ndarray'>\nx:  <class 'numpy.ndarray'>\ny:  <class 'numpy.ndarray'>\nx:  <class 'numpy.ndarray'>\ny:  <class 'numpy.ndarray'>\nx:  <class 'numpy.ndarray'>\ny:  <class 'numpy.ndarray'>\nx:  <class 'numpy.ndarray'>\ny:  <class 'numpy.ndarray'>\nx:  <class 'numpy.ndarray'>\ny:  <class 'numpy.ndarray'>\nx:  <class 'numpy.ndarray'>\ny:  <class 'numpy.ndarray'>\nx:  <class 'numpy.ndarray'>\ny:  <class 'numpy.ndarray'>\nx:  <class 'numpy.ndarray'>\ny:  <class 'numpy.ndarray'>\nx:  <class 'numpy.ndarray'>\ny:  <class 'numpy.ndarray'>\nx:  <class 'numpy.ndarray'>\ny:  <class 'numpy.ndarray'>\nx:  <class 'numpy.ndarray'>\ny:  <class 'numpy.ndarray'>\nx:  <class 'numpy.ndarray'>\ny:  <class 'numpy.ndarray'>\nx:  <class 'numpy.ndarray'>\ny:  <class 'numpy.ndarray'>\nx:  <class 'numpy.ndarray'>\ny:  <class 'numpy.ndarray'>\nx:  <class 'numpy.ndarray'>\ny:  <class 'numpy.ndarray'>\nx:  <class 'numpy.ndarray'>\ny:  <class 'numpy.ndarray'>\nx:  <class 'numpy.ndarray'>\ny:  <class 'numpy.ndarray'>\nx:  <class 'numpy.ndarray'>\ny:  <class 'numpy.ndarray'>\nx:  <class 'numpy.ndarray'>\ny:  <class 'numpy.ndarray'>\nx:  <class 'numpy.ndarray'>\ny:  <class 'numpy.ndarray'>\nx:  <class 'numpy.ndarray'>\ny:  <class 'numpy.ndarray'>\nx:  <class 'numpy.ndarray'>\ny:  <class 'numpy.ndarray'>\nx:  <class 'numpy.ndarray'>\ny:  <class 'numpy.ndarray'>\nx:  <class 'numpy.ndarray'>\ny:  <class 'numpy.ndarray'>\nx:  <class 'numpy.ndarray'>\ny:  <class 'numpy.ndarray'>\nx:  <class 'numpy.ndarray'>\ny:  <class 'numpy.ndarray'>\nx:  <class 'numpy.ndarray'>\ny:  <class 'numpy.ndarray'>\nx:  <class 'numpy.ndarray'>\ny:  <class 'numpy.ndarray'>\nx:  <class 'numpy.ndarray'>\ny:  <class 'numpy.ndarray'>\nEPOCH 5 ...\nValidation Accuracy = 0.988\n\n"
    },
    {
     "output_type": "error",
     "ename": "KeyboardInterrupt",
     "evalue": "",
     "traceback": [
      "\u001b[1;31m---------------------------------------------------------------------------\u001b[0m",
      "\u001b[1;31mKeyboardInterrupt\u001b[0m                         Traceback (most recent call last)",
      "\u001b[1;32m<ipython-input-16-de51c8a63148>\u001b[0m in \u001b[0;36m<module>\u001b[1;34m\u001b[0m\n\u001b[0;32m      6\u001b[0m     \u001b[0mprint\u001b[0m\u001b[1;33m(\u001b[0m\u001b[1;33m)\u001b[0m\u001b[1;33m\u001b[0m\u001b[1;33m\u001b[0m\u001b[0m\n\u001b[0;32m      7\u001b[0m     \u001b[1;32mfor\u001b[0m \u001b[0mi\u001b[0m \u001b[1;32min\u001b[0m \u001b[0mrange\u001b[0m\u001b[1;33m(\u001b[0m\u001b[0mEPOCHS\u001b[0m\u001b[1;33m)\u001b[0m\u001b[1;33m:\u001b[0m\u001b[1;33m\u001b[0m\u001b[1;33m\u001b[0m\u001b[0m\n\u001b[1;32m----> 8\u001b[1;33m         \u001b[0mX_train\u001b[0m\u001b[1;33m,\u001b[0m \u001b[0my_train\u001b[0m \u001b[1;33m=\u001b[0m \u001b[0mshuffle\u001b[0m\u001b[1;33m(\u001b[0m\u001b[0mX_train\u001b[0m\u001b[1;33m,\u001b[0m \u001b[0my_train\u001b[0m\u001b[1;33m)\u001b[0m\u001b[1;33m\u001b[0m\u001b[1;33m\u001b[0m\u001b[0m\n\u001b[0m\u001b[0;32m      9\u001b[0m         \u001b[1;32mfor\u001b[0m \u001b[0moffset\u001b[0m \u001b[1;32min\u001b[0m \u001b[0mrange\u001b[0m\u001b[1;33m(\u001b[0m\u001b[1;36m0\u001b[0m\u001b[1;33m,\u001b[0m \u001b[0mnum_examples\u001b[0m\u001b[1;33m,\u001b[0m \u001b[0mBATCH_SIZE\u001b[0m\u001b[1;33m)\u001b[0m\u001b[1;33m:\u001b[0m\u001b[1;33m\u001b[0m\u001b[1;33m\u001b[0m\u001b[0m\n\u001b[0;32m     10\u001b[0m             \u001b[0mend\u001b[0m \u001b[1;33m=\u001b[0m \u001b[0moffset\u001b[0m \u001b[1;33m+\u001b[0m \u001b[0mBATCH_SIZE\u001b[0m\u001b[1;33m\u001b[0m\u001b[1;33m\u001b[0m\u001b[0m\n",
      "\u001b[1;32m~\\anaconda3\\envs\\tensorflow1\\lib\\site-packages\\sklearn\\utils\\__init__.py\u001b[0m in \u001b[0;36mshuffle\u001b[1;34m(*arrays, **options)\u001b[0m\n\u001b[0;32m    684\u001b[0m     \"\"\"\n\u001b[0;32m    685\u001b[0m     \u001b[0moptions\u001b[0m\u001b[1;33m[\u001b[0m\u001b[1;34m'replace'\u001b[0m\u001b[1;33m]\u001b[0m \u001b[1;33m=\u001b[0m \u001b[1;32mFalse\u001b[0m\u001b[1;33m\u001b[0m\u001b[1;33m\u001b[0m\u001b[0m\n\u001b[1;32m--> 686\u001b[1;33m     \u001b[1;32mreturn\u001b[0m \u001b[0mresample\u001b[0m\u001b[1;33m(\u001b[0m\u001b[1;33m*\u001b[0m\u001b[0marrays\u001b[0m\u001b[1;33m,\u001b[0m \u001b[1;33m**\u001b[0m\u001b[0moptions\u001b[0m\u001b[1;33m)\u001b[0m\u001b[1;33m\u001b[0m\u001b[1;33m\u001b[0m\u001b[0m\n\u001b[0m\u001b[0;32m    687\u001b[0m \u001b[1;33m\u001b[0m\u001b[0m\n\u001b[0;32m    688\u001b[0m \u001b[1;33m\u001b[0m\u001b[0m\n",
      "\u001b[1;32m~\\anaconda3\\envs\\tensorflow1\\lib\\site-packages\\sklearn\\utils\\__init__.py\u001b[0m in \u001b[0;36mresample\u001b[1;34m(*arrays, **options)\u001b[0m\n\u001b[0;32m    609\u001b[0m     \u001b[1;31m# convert sparse matrices to CSR for row-based indexing\u001b[0m\u001b[1;33m\u001b[0m\u001b[1;33m\u001b[0m\u001b[1;33m\u001b[0m\u001b[0m\n\u001b[0;32m    610\u001b[0m     \u001b[0marrays\u001b[0m \u001b[1;33m=\u001b[0m \u001b[1;33m[\u001b[0m\u001b[0ma\u001b[0m\u001b[1;33m.\u001b[0m\u001b[0mtocsr\u001b[0m\u001b[1;33m(\u001b[0m\u001b[1;33m)\u001b[0m \u001b[1;32mif\u001b[0m \u001b[0missparse\u001b[0m\u001b[1;33m(\u001b[0m\u001b[0ma\u001b[0m\u001b[1;33m)\u001b[0m \u001b[1;32melse\u001b[0m \u001b[0ma\u001b[0m \u001b[1;32mfor\u001b[0m \u001b[0ma\u001b[0m \u001b[1;32min\u001b[0m \u001b[0marrays\u001b[0m\u001b[1;33m]\u001b[0m\u001b[1;33m\u001b[0m\u001b[1;33m\u001b[0m\u001b[0m\n\u001b[1;32m--> 611\u001b[1;33m     \u001b[0mresampled_arrays\u001b[0m \u001b[1;33m=\u001b[0m \u001b[1;33m[\u001b[0m\u001b[0m_safe_indexing\u001b[0m\u001b[1;33m(\u001b[0m\u001b[0ma\u001b[0m\u001b[1;33m,\u001b[0m \u001b[0mindices\u001b[0m\u001b[1;33m)\u001b[0m \u001b[1;32mfor\u001b[0m \u001b[0ma\u001b[0m \u001b[1;32min\u001b[0m \u001b[0marrays\u001b[0m\u001b[1;33m]\u001b[0m\u001b[1;33m\u001b[0m\u001b[1;33m\u001b[0m\u001b[0m\n\u001b[0m\u001b[0;32m    612\u001b[0m     \u001b[1;32mif\u001b[0m \u001b[0mlen\u001b[0m\u001b[1;33m(\u001b[0m\u001b[0mresampled_arrays\u001b[0m\u001b[1;33m)\u001b[0m \u001b[1;33m==\u001b[0m \u001b[1;36m1\u001b[0m\u001b[1;33m:\u001b[0m\u001b[1;33m\u001b[0m\u001b[1;33m\u001b[0m\u001b[0m\n\u001b[0;32m    613\u001b[0m         \u001b[1;31m# syntactic sugar for the unit argument case\u001b[0m\u001b[1;33m\u001b[0m\u001b[1;33m\u001b[0m\u001b[1;33m\u001b[0m\u001b[0m\n",
      "\u001b[1;32m~\\anaconda3\\envs\\tensorflow1\\lib\\site-packages\\sklearn\\utils\\__init__.py\u001b[0m in \u001b[0;36m<listcomp>\u001b[1;34m(.0)\u001b[0m\n\u001b[0;32m    609\u001b[0m     \u001b[1;31m# convert sparse matrices to CSR for row-based indexing\u001b[0m\u001b[1;33m\u001b[0m\u001b[1;33m\u001b[0m\u001b[1;33m\u001b[0m\u001b[0m\n\u001b[0;32m    610\u001b[0m     \u001b[0marrays\u001b[0m \u001b[1;33m=\u001b[0m \u001b[1;33m[\u001b[0m\u001b[0ma\u001b[0m\u001b[1;33m.\u001b[0m\u001b[0mtocsr\u001b[0m\u001b[1;33m(\u001b[0m\u001b[1;33m)\u001b[0m \u001b[1;32mif\u001b[0m \u001b[0missparse\u001b[0m\u001b[1;33m(\u001b[0m\u001b[0ma\u001b[0m\u001b[1;33m)\u001b[0m \u001b[1;32melse\u001b[0m \u001b[0ma\u001b[0m \u001b[1;32mfor\u001b[0m \u001b[0ma\u001b[0m \u001b[1;32min\u001b[0m \u001b[0marrays\u001b[0m\u001b[1;33m]\u001b[0m\u001b[1;33m\u001b[0m\u001b[1;33m\u001b[0m\u001b[0m\n\u001b[1;32m--> 611\u001b[1;33m     \u001b[0mresampled_arrays\u001b[0m \u001b[1;33m=\u001b[0m \u001b[1;33m[\u001b[0m\u001b[0m_safe_indexing\u001b[0m\u001b[1;33m(\u001b[0m\u001b[0ma\u001b[0m\u001b[1;33m,\u001b[0m \u001b[0mindices\u001b[0m\u001b[1;33m)\u001b[0m \u001b[1;32mfor\u001b[0m \u001b[0ma\u001b[0m \u001b[1;32min\u001b[0m \u001b[0marrays\u001b[0m\u001b[1;33m]\u001b[0m\u001b[1;33m\u001b[0m\u001b[1;33m\u001b[0m\u001b[0m\n\u001b[0m\u001b[0;32m    612\u001b[0m     \u001b[1;32mif\u001b[0m \u001b[0mlen\u001b[0m\u001b[1;33m(\u001b[0m\u001b[0mresampled_arrays\u001b[0m\u001b[1;33m)\u001b[0m \u001b[1;33m==\u001b[0m \u001b[1;36m1\u001b[0m\u001b[1;33m:\u001b[0m\u001b[1;33m\u001b[0m\u001b[1;33m\u001b[0m\u001b[0m\n\u001b[0;32m    613\u001b[0m         \u001b[1;31m# syntactic sugar for the unit argument case\u001b[0m\u001b[1;33m\u001b[0m\u001b[1;33m\u001b[0m\u001b[1;33m\u001b[0m\u001b[0m\n",
      "\u001b[1;32m~\\anaconda3\\envs\\tensorflow1\\lib\\site-packages\\sklearn\\utils\\__init__.py\u001b[0m in \u001b[0;36m_safe_indexing\u001b[1;34m(X, indices, axis)\u001b[0m\n\u001b[0;32m    393\u001b[0m         \u001b[1;32mreturn\u001b[0m \u001b[0m_pandas_indexing\u001b[0m\u001b[1;33m(\u001b[0m\u001b[0mX\u001b[0m\u001b[1;33m,\u001b[0m \u001b[0mindices\u001b[0m\u001b[1;33m,\u001b[0m \u001b[0mindices_dtype\u001b[0m\u001b[1;33m,\u001b[0m \u001b[0maxis\u001b[0m\u001b[1;33m=\u001b[0m\u001b[0maxis\u001b[0m\u001b[1;33m)\u001b[0m\u001b[1;33m\u001b[0m\u001b[1;33m\u001b[0m\u001b[0m\n\u001b[0;32m    394\u001b[0m     \u001b[1;32melif\u001b[0m \u001b[0mhasattr\u001b[0m\u001b[1;33m(\u001b[0m\u001b[0mX\u001b[0m\u001b[1;33m,\u001b[0m \u001b[1;34m\"shape\"\u001b[0m\u001b[1;33m)\u001b[0m\u001b[1;33m:\u001b[0m\u001b[1;33m\u001b[0m\u001b[1;33m\u001b[0m\u001b[0m\n\u001b[1;32m--> 395\u001b[1;33m         \u001b[1;32mreturn\u001b[0m \u001b[0m_array_indexing\u001b[0m\u001b[1;33m(\u001b[0m\u001b[0mX\u001b[0m\u001b[1;33m,\u001b[0m \u001b[0mindices\u001b[0m\u001b[1;33m,\u001b[0m \u001b[0mindices_dtype\u001b[0m\u001b[1;33m,\u001b[0m \u001b[0maxis\u001b[0m\u001b[1;33m=\u001b[0m\u001b[0maxis\u001b[0m\u001b[1;33m)\u001b[0m\u001b[1;33m\u001b[0m\u001b[1;33m\u001b[0m\u001b[0m\n\u001b[0m\u001b[0;32m    396\u001b[0m     \u001b[1;32melse\u001b[0m\u001b[1;33m:\u001b[0m\u001b[1;33m\u001b[0m\u001b[1;33m\u001b[0m\u001b[0m\n\u001b[0;32m    397\u001b[0m         \u001b[1;32mreturn\u001b[0m \u001b[0m_list_indexing\u001b[0m\u001b[1;33m(\u001b[0m\u001b[0mX\u001b[0m\u001b[1;33m,\u001b[0m \u001b[0mindices\u001b[0m\u001b[1;33m,\u001b[0m \u001b[0mindices_dtype\u001b[0m\u001b[1;33m)\u001b[0m\u001b[1;33m\u001b[0m\u001b[1;33m\u001b[0m\u001b[0m\n",
      "\u001b[1;32m~\\anaconda3\\envs\\tensorflow1\\lib\\site-packages\\sklearn\\utils\\__init__.py\u001b[0m in \u001b[0;36m_array_indexing\u001b[1;34m(array, key, key_dtype, axis)\u001b[0m\n\u001b[0;32m    179\u001b[0m     \u001b[1;32mif\u001b[0m \u001b[0misinstance\u001b[0m\u001b[1;33m(\u001b[0m\u001b[0mkey\u001b[0m\u001b[1;33m,\u001b[0m \u001b[0mtuple\u001b[0m\u001b[1;33m)\u001b[0m\u001b[1;33m:\u001b[0m\u001b[1;33m\u001b[0m\u001b[1;33m\u001b[0m\u001b[0m\n\u001b[0;32m    180\u001b[0m         \u001b[0mkey\u001b[0m \u001b[1;33m=\u001b[0m \u001b[0mlist\u001b[0m\u001b[1;33m(\u001b[0m\u001b[0mkey\u001b[0m\u001b[1;33m)\u001b[0m\u001b[1;33m\u001b[0m\u001b[1;33m\u001b[0m\u001b[0m\n\u001b[1;32m--> 181\u001b[1;33m     \u001b[1;32mreturn\u001b[0m \u001b[0marray\u001b[0m\u001b[1;33m[\u001b[0m\u001b[0mkey\u001b[0m\u001b[1;33m]\u001b[0m \u001b[1;32mif\u001b[0m \u001b[0maxis\u001b[0m \u001b[1;33m==\u001b[0m \u001b[1;36m0\u001b[0m \u001b[1;32melse\u001b[0m \u001b[0marray\u001b[0m\u001b[1;33m[\u001b[0m\u001b[1;33m:\u001b[0m\u001b[1;33m,\u001b[0m \u001b[0mkey\u001b[0m\u001b[1;33m]\u001b[0m\u001b[1;33m\u001b[0m\u001b[1;33m\u001b[0m\u001b[0m\n\u001b[0m\u001b[0;32m    182\u001b[0m \u001b[1;33m\u001b[0m\u001b[0m\n\u001b[0;32m    183\u001b[0m \u001b[1;33m\u001b[0m\u001b[0m\n",
      "\u001b[1;31mKeyboardInterrupt\u001b[0m: "
     ]
    }
   ],
   "source": [
    "with tf.Session() as sess:\n",
    "    sess.run(tf.global_variables_initializer())\n",
    "    num_examples = len(X_train)\n",
    "    \n",
    "    print(\"Training...\")\n",
    "    print()\n",
    "    for i in range(EPOCHS):\n",
    "        X_train, y_train = shuffle(X_train, y_train)\n",
    "        for offset in range(0, num_examples, BATCH_SIZE):\n",
    "            end = offset + BATCH_SIZE\n",
    "            batch_x, batch_y = X_train[offset:end], y_train[offset:end]\n",
    "            sess.run(training_operation, feed_dict={x: batch_x, y: batch_y})\n",
    "            \n",
    "        validation_accuracy = evaluate(X_validation, y_validation)\n",
    "        print(\"EPOCH {} ...\".format(i+1))\n",
    "        print(\"Validation Accuracy = {:.3f}\".format(validation_accuracy))\n",
    "        print()\n",
    "        \n",
    "    saver.save(sess, './lenet')\n",
    "    print(\"Model saved\")"
   ]
  },
  {
   "cell_type": "markdown",
   "metadata": {},
   "source": [
    "## Evaluate the Model\n",
    "Once you are completely satisfied with your model, evaluate the performance of the model on the test set.\n",
    "\n",
    "Be sure to only do this once!\n",
    "\n",
    "If you were to measure the performance of your trained model on the test set, then improve your model, and then measure the performance of your model on the test set again, that would invalidate your test results. You wouldn't get a true measure of how well your model would perform against real data.\n",
    "\n",
    "You do not need to modify this section."
   ]
  },
  {
   "cell_type": "code",
   "execution_count": null,
   "metadata": {},
   "outputs": [],
   "source": [
    "with tf.Session() as sess:\n",
    "    saver.restore(sess, tf.train.latest_checkpoint('.'))\n",
    "\n",
    "    test_accuracy = evaluate(X_test, y_test)\n",
    "    print(\"Test Accuracy = {:.3f}\".format(test_accuracy))"
   ]
  }
 ],
 "metadata": {
  "anaconda-cloud": {},
  "kernelspec": {
   "display_name": "Python 3.7.3 64-bit ('tensorflow1': conda)",
   "language": "python",
   "name": "python_defaultSpec_1595090513895"
  },
  "language_info": {
   "codemirror_mode": {
    "name": "ipython",
    "version": 3
   },
   "file_extension": ".py",
   "mimetype": "text/x-python",
   "name": "python",
   "nbconvert_exporter": "python",
   "pygments_lexer": "ipython3",
   "version": "3.7.3-final"
  },
  "widgets": {
   "state": {},
   "version": "1.1.2"
  }
 },
 "nbformat": 4,
 "nbformat_minor": 1
}